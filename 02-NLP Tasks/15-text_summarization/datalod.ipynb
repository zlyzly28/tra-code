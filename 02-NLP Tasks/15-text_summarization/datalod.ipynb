{
 "cells": [
  {
   "cell_type": "code",
   "execution_count": null,
   "id": "5b119bb1-fbf6-47f6-aff5-8b8baf9f5dc1",
   "metadata": {
    "ExecutionIndicator": {
     "show": true
    },
    "tags": []
   },
   "outputs": [],
   "source": [
    "import json\n",
    "\n",
    "# 打开并读取JSON文件\n",
    "with open('dureadqg/train.json', 'r') as file:\n",
    "    data = json.load(file)\n",
    "\n",
    "# 输出读取到的数据\n",
    "print(data)"
   ]
  },
  {
   "cell_type": "code",
   "execution_count": 1,
   "id": "ed39f620-a9ca-4bb2-8685-a0c00257370a",
   "metadata": {
    "ExecutionIndicator": {
     "show": true
    },
    "execution": {
     "iopub.execute_input": "2024-07-24T07:00:05.038797Z",
     "iopub.status.busy": "2024-07-24T07:00:05.038116Z",
     "iopub.status.idle": "2024-07-24T07:00:05.139361Z",
     "shell.execute_reply": "2024-07-24T07:00:05.138772Z",
     "shell.execute_reply.started": "2024-07-24T07:00:05.038758Z"
    },
    "tags": []
   },
   "outputs": [],
   "source": [
    "import json\n",
    "\n",
    "# 定义一个空列表用于存储所有的字典\n",
    "train_list = []\n",
    "test_list = []\n",
    "# 打开JSON Lines文件\n",
    "with open('dureadqg/train.json', 'r') as file:\n",
    "    # 逐行读取\n",
    "    for line in file:\n",
    "        # 解析每一行\n",
    "        data_dict = json.loads(line)\n",
    "        # 将解析后的字典添加到列表中\n",
    "        train_list.append(data_dict)\n",
    "# 打开JSON Lines文件\n",
    "with open('dureadqg/dev.json', 'r') as file:\n",
    "    # 逐行读取\n",
    "    for line in file:\n",
    "        # 解析每一行\n",
    "        data_dict = json.loads(line)\n",
    "        # 将解析后的字典添加到列表中\n",
    "        test_list.append(data_dict)\n"
   ]
  },
  {
   "cell_type": "code",
   "execution_count": 2,
   "id": "2b4f7825-ec3c-4d7c-ba44-06ee866f44d3",
   "metadata": {
    "ExecutionIndicator": {
     "show": true
    },
    "execution": {
     "iopub.execute_input": "2024-07-24T07:00:07.177100Z",
     "iopub.status.busy": "2024-07-24T07:00:07.176777Z",
     "iopub.status.idle": "2024-07-24T07:00:07.181055Z",
     "shell.execute_reply": "2024-07-24T07:00:07.180274Z",
     "shell.execute_reply.started": "2024-07-24T07:00:07.177082Z"
    },
    "tags": []
   },
   "outputs": [
    {
     "name": "stdout",
     "output_type": "stream",
     "text": [
      "14520 984\n"
     ]
    }
   ],
   "source": [
    "print(len(train_list), len(test_list))"
   ]
  },
  {
   "cell_type": "code",
   "execution_count": 9,
   "id": "f666fba3-503f-44f9-ae57-3f99c509d8e1",
   "metadata": {
    "ExecutionIndicator": {
     "show": true
    },
    "execution": {
     "iopub.execute_input": "2024-07-24T07:05:02.587323Z",
     "iopub.status.busy": "2024-07-24T07:05:02.586971Z",
     "iopub.status.idle": "2024-07-24T07:05:02.792531Z",
     "shell.execute_reply": "2024-07-24T07:05:02.792046Z",
     "shell.execute_reply.started": "2024-07-24T07:05:02.587304Z"
    },
    "tags": []
   },
   "outputs": [],
   "source": [
    "import numpy as np\n",
    "con, que = [], []\n",
    "for i in range(len(train_list)):\n",
    "    con.append(len(train_list[i]['context']))\n",
    "    que.append(len(train_list[i]['question']))"
   ]
  },
  {
   "cell_type": "code",
   "execution_count": 13,
   "id": "d72a7cce-fcd9-441a-95f6-17fbe22d806e",
   "metadata": {
    "ExecutionIndicator": {
     "show": true
    },
    "execution": {
     "iopub.execute_input": "2024-07-24T07:05:52.468935Z",
     "iopub.status.busy": "2024-07-24T07:05:52.468599Z",
     "iopub.status.idle": "2024-07-24T07:05:52.473578Z",
     "shell.execute_reply": "2024-07-24T07:05:52.473019Z",
     "shell.execute_reply.started": "2024-07-24T07:05:52.468915Z"
    },
    "tags": []
   },
   "outputs": [
    {
     "data": {
      "text/plain": [
       "(282.2969696969697, 42)"
      ]
     },
     "execution_count": 13,
     "metadata": {},
     "output_type": "execute_result"
    }
   ],
   "source": [
    "np.mean(con), np.max(que)"
   ]
  },
  {
   "cell_type": "code",
   "execution_count": null,
   "id": "13c24901-91e3-4f5f-b60f-7ebeaa1ad586",
   "metadata": {
    "tags": []
   },
   "outputs": [],
   "source": [
    "!pip install datasets transformers rouge-score nltk"
   ]
  },
  {
   "cell_type": "code",
   "execution_count": 14,
   "id": "acb12293-37c6-4318-88a2-ed6ea72847c6",
   "metadata": {
    "ExecutionIndicator": {
     "show": true
    },
    "execution": {
     "iopub.execute_input": "2024-07-24T07:12:51.072674Z",
     "iopub.status.busy": "2024-07-24T07:12:51.072363Z",
     "iopub.status.idle": "2024-07-24T07:12:51.645573Z",
     "shell.execute_reply": "2024-07-24T07:12:51.644737Z",
     "shell.execute_reply.started": "2024-07-24T07:12:51.072656Z"
    },
    "tags": []
   },
   "outputs": [
    {
     "name": "stderr",
     "output_type": "stream",
     "text": [
      "/opt/conda/lib/python3.8/site-packages/tqdm/auto.py:21: TqdmWarning: IProgress not found. Please update jupyter and ipywidgets. See https://ipywidgets.readthedocs.io/en/stable/user_install.html\n",
      "  from .autonotebook import tqdm as notebook_tqdm\n"
     ]
    },
    {
     "name": "stdout",
     "output_type": "stream",
     "text": [
      "Dataset({\n",
      "    features: ['context', 'answer', 'question', 'id'],\n",
      "    num_rows: 14520\n",
      "}) Dataset({\n",
      "    features: ['context', 'answer', 'question', 'id'],\n",
      "    num_rows: 984\n",
      "})\n"
     ]
    }
   ],
   "source": [
    "from datasets import *\n",
    "train_dataset = Dataset.from_list(train_list)\n",
    "test_dataset = Dataset.from_list(test_list)\n",
    "print(train_dataset, test_dataset)"
   ]
  },
  {
   "cell_type": "code",
   "execution_count": 1,
   "id": "858d4719-cbf0-4cce-b24f-c2e19e5ac25c",
   "metadata": {
    "execution": {
     "iopub.execute_input": "2024-07-24T02:08:51.685741Z",
     "iopub.status.busy": "2024-07-24T02:08:51.684045Z",
     "iopub.status.idle": "2024-07-24T02:08:51.877949Z",
     "shell.execute_reply": "2024-07-24T02:08:51.877292Z",
     "shell.execute_reply.started": "2024-07-24T02:08:51.685700Z"
    },
    "tags": []
   },
   "outputs": [
    {
     "name": "stdout",
     "output_type": "stream",
     "text": [
      "Updated Git hooks.\n",
      "Git LFS initialized.\n"
     ]
    }
   ],
   "source": [
    "!git lfs install"
   ]
  },
  {
   "cell_type": "code",
   "execution_count": 2,
   "id": "69f8ba93-1713-4c3b-aaf7-d7c5a3e6a9f5",
   "metadata": {
    "execution": {
     "iopub.execute_input": "2024-07-24T01:57:58.154163Z",
     "iopub.status.busy": "2024-07-24T01:57:58.153819Z",
     "iopub.status.idle": "2024-07-24T01:58:30.062671Z",
     "shell.execute_reply": "2024-07-24T01:58:30.062093Z",
     "shell.execute_reply.started": "2024-07-24T01:57:58.154142Z"
    },
    "tags": []
   },
   "outputs": [
    {
     "name": "stdout",
     "output_type": "stream",
     "text": [
      "正克隆到 't5-base-chinese-cluecorpussmall'...\n",
      "fatal: 无法访问 'https://huggingface.co/uer/t5-base-chinese-cluecorpussmall/'：Failed to connect to huggingface.co port 443: 连接超时\n"
     ]
    }
   ],
   "source": [
    "!git clone https://huggingface.co/uer/t5-base-chinese-cluecorpussmall"
   ]
  },
  {
   "cell_type": "code",
   "execution_count": 3,
   "id": "a7a572f9-a29f-46d3-a9ec-c5dc45a1fb68",
   "metadata": {
    "execution": {
     "iopub.execute_input": "2024-07-24T02:21:37.554633Z",
     "iopub.status.busy": "2024-07-24T02:21:37.554120Z",
     "iopub.status.idle": "2024-07-24T02:21:55.813832Z",
     "shell.execute_reply": "2024-07-24T02:21:55.813132Z",
     "shell.execute_reply.started": "2024-07-24T02:21:37.554608Z"
    },
    "tags": []
   },
   "outputs": [
    {
     "name": "stderr",
     "output_type": "stream",
     "text": [
      "2024-07-24 10:21:54,294 - modelscope - INFO - [master ee39e78] 'upload model'\n",
      " 5 files changed, 21385 insertions(+)\n",
      " create mode 100644 README.md\n",
      " create mode 100644 config.json\n",
      " create mode 100644 special_tokens_map.json\n",
      " create mode 100644 tokenizer_config.json\n",
      " create mode 100644 vocab.txt\n",
      "\n"
     ]
    }
   ],
   "source": [
    "from modelscope.hub.api import HubApi\n",
    "\n",
    "YOUR_ACCESS_TOKEN = '49834fc2-f98f-4ac3-8efc-01ce1764baf8'\n",
    "\n",
    "api = HubApi()\n",
    "api.login(YOUR_ACCESS_TOKEN)\n",
    "api.push_model(\n",
    "    model_id=\"zlyzly/t5-base-chinese-cluecorpussmall\", \n",
    "    model_dir=\"t5-base-chinese-cluecorpussmall\" # 本地模型目录，要求目录中必须包含configuration.json\n",
    ")"
   ]
  },
  {
   "cell_type": "code",
   "execution_count": 15,
   "id": "b0158a2b-f0b8-44a4-a3de-737612297449",
   "metadata": {
    "execution": {
     "iopub.execute_input": "2024-07-24T07:13:03.309666Z",
     "iopub.status.busy": "2024-07-24T07:13:03.309348Z",
     "iopub.status.idle": "2024-07-24T07:13:14.690253Z",
     "shell.execute_reply": "2024-07-24T07:13:14.689748Z",
     "shell.execute_reply.started": "2024-07-24T07:13:03.309644Z"
    },
    "tags": []
   },
   "outputs": [
    {
     "name": "stderr",
     "output_type": "stream",
     "text": [
      "2024-07-24 15:13:04,469 - modelscope - INFO - PyTorch version 2.0.1+cu118 Found.\n",
      "2024-07-24 15:13:04,472 - modelscope - INFO - TensorFlow version 2.13.0 Found.\n",
      "2024-07-24 15:13:04,472 - modelscope - INFO - Loading ast index from /mnt/workspace/.cache/modelscope/ast_indexer\n",
      "2024-07-24 15:13:04,499 - modelscope - INFO - Loading done! Current index file version is 1.9.5, with md5 e096d041fdba41d8d7d7331b3f469288 and a total number of 945 components indexed\n",
      "Downloading: 100%|██████████| 460/460 [00:00<00:00, 65.2kB/s]\n",
      "Downloading: 100%|██████████| 26.0/26.0 [00:00<00:00, 4.03kB/s]\n",
      "Downloading: 100%|█████████▉| 818M/818M [00:03<00:00, 217MB/s] \n",
      "Downloading: 100%|██████████| 6.32k/6.32k [00:00<00:00, 2.83MB/s]\n",
      "Downloading: 100%|██████████| 112/112 [00:00<00:00, 67.2kB/s]\n",
      "Downloading: 100%|██████████| 263/263 [00:00<00:00, 153kB/s]\n",
      "Downloading: 100%|██████████| 108k/108k [00:00<00:00, 5.94MB/s]\n"
     ]
    }
   ],
   "source": [
    "from modelscope import HubApi\n",
    "from modelscope import snapshot_download\n",
    "\n",
    "api=HubApi()\n",
    "api.login('49834fc2-f98f-4ac3-8efc-01ce1764baf8')\n",
    "\n",
    "# download your model, the model_path is downloaded model path.\n",
    "model_path =snapshot_download(model_id='zlyzly/t5-base-chinese-cluecorpussmall')\n"
   ]
  },
  {
   "cell_type": "code",
   "execution_count": 18,
   "id": "d832103f-35ea-4e9c-a515-bee305546353",
   "metadata": {
    "execution": {
     "iopub.execute_input": "2024-07-24T07:14:01.258968Z",
     "iopub.status.busy": "2024-07-24T07:14:01.258205Z",
     "iopub.status.idle": "2024-07-24T07:14:01.289772Z",
     "shell.execute_reply": "2024-07-24T07:14:01.289154Z",
     "shell.execute_reply.started": "2024-07-24T07:14:01.258941Z"
    },
    "tags": []
   },
   "outputs": [],
   "source": [
    "tokenizer = AutoTokenizer.from_pretrained(model_path)"
   ]
  },
  {
   "cell_type": "code",
   "execution_count": 19,
   "id": "e9ebc414-7d7a-41a7-9c8b-da1775daf6c7",
   "metadata": {
    "execution": {
     "iopub.execute_input": "2024-07-24T07:14:26.189243Z",
     "iopub.status.busy": "2024-07-24T07:14:26.188867Z",
     "iopub.status.idle": "2024-07-24T07:14:26.192619Z",
     "shell.execute_reply": "2024-07-24T07:14:26.192004Z",
     "shell.execute_reply.started": "2024-07-24T07:14:26.189216Z"
    },
    "tags": []
   },
   "outputs": [
    {
     "name": "stdout",
     "output_type": "stream",
     "text": [
      "Dataset({\n",
      "    features: ['context', 'answer', 'question', 'id'],\n",
      "    num_rows: 14520\n",
      "}) Dataset({\n",
      "    features: ['context', 'answer', 'question', 'id'],\n",
      "    num_rows: 984\n",
      "})\n"
     ]
    }
   ],
   "source": [
    "print(train_dataset, test_dataset)"
   ]
  },
  {
   "cell_type": "code",
   "execution_count": 29,
   "id": "1cfc8814-8256-4487-89be-52c2fbb1719b",
   "metadata": {
    "ExecutionIndicator": {
     "show": true
    },
    "execution": {
     "iopub.execute_input": "2024-07-24T07:41:42.890451Z",
     "iopub.status.busy": "2024-07-24T07:41:42.890063Z",
     "iopub.status.idle": "2024-07-24T07:41:43.865935Z",
     "shell.execute_reply": "2024-07-24T07:41:43.865374Z",
     "shell.execute_reply.started": "2024-07-24T07:41:42.890429Z"
    },
    "tags": []
   },
   "outputs": [],
   "source": [
    "len(train_dataset['answer']), len(train_dataset['context'])\n",
    "q_c_tent = [\"问题内容: \\n\" + e['question'] + \"\\n文本内容: \\n\" + e['context'] for e in train_dataset]\n",
    "answer = [e['answer']  for e in train_dataset]"
   ]
  },
  {
   "cell_type": "code",
   "execution_count": 32,
   "id": "2c98fee6-381e-4793-89fc-abe225d37006",
   "metadata": {
    "ExecutionIndicator": {
     "show": true
    },
    "execution": {
     "iopub.execute_input": "2024-07-24T07:42:25.930268Z",
     "iopub.status.busy": "2024-07-24T07:42:25.929921Z",
     "iopub.status.idle": "2024-07-24T07:42:28.224976Z",
     "shell.execute_reply": "2024-07-24T07:42:28.224467Z",
     "shell.execute_reply.started": "2024-07-24T07:42:25.930250Z"
    },
    "tags": []
   },
   "outputs": [
    {
     "name": "stdout",
     "output_type": "stream",
     "text": [
      "14520 14520\n"
     ]
    }
   ],
   "source": [
    "print(len(q_c_tent), len(answer))\n",
    "inputs = tokenizer(q_c_tent, max_length=512, truncation=True)\n",
    "labels = tokenizer(answer, max_length=64, truncation=True)"
   ]
  },
  {
   "cell_type": "code",
   "execution_count": 36,
   "id": "eab46dac-3b63-4e24-b529-103700170589",
   "metadata": {
    "ExecutionIndicator": {
     "show": true
    },
    "execution": {
     "iopub.execute_input": "2024-07-24T07:44:08.682252Z",
     "iopub.status.busy": "2024-07-24T07:44:08.681930Z",
     "iopub.status.idle": "2024-07-24T07:44:08.685279Z",
     "shell.execute_reply": "2024-07-24T07:44:08.684728Z",
     "shell.execute_reply.started": "2024-07-24T07:44:08.682235Z"
    },
    "tags": []
   },
   "outputs": [
    {
     "name": "stdout",
     "output_type": "stream",
     "text": [
      "14520\n"
     ]
    }
   ],
   "source": [
    "print(len(labels['input_ids']))"
   ]
  },
  {
   "cell_type": "code",
   "execution_count": 37,
   "id": "8fce3fe7-610f-4ffd-ada3-5a7648e48932",
   "metadata": {
    "execution": {
     "iopub.execute_input": "2024-07-24T07:44:17.407852Z",
     "iopub.status.busy": "2024-07-24T07:44:17.407513Z",
     "iopub.status.idle": "2024-07-24T07:44:17.410915Z",
     "shell.execute_reply": "2024-07-24T07:44:17.410259Z",
     "shell.execute_reply.started": "2024-07-24T07:44:17.407833Z"
    },
    "tags": []
   },
   "outputs": [],
   "source": [
    "inputs[\"labels\"] = labels[\"input_ids\"]"
   ]
  },
  {
   "cell_type": "code",
   "execution_count": 41,
   "id": "ea6b00c3-76d8-4c02-87ff-83902323e8a5",
   "metadata": {
    "ExecutionIndicator": {
     "show": true
    },
    "execution": {
     "iopub.execute_input": "2024-07-24T07:45:09.049641Z",
     "iopub.status.busy": "2024-07-24T07:45:09.049315Z",
     "iopub.status.idle": "2024-07-24T07:45:09.052866Z",
     "shell.execute_reply": "2024-07-24T07:45:09.052312Z",
     "shell.execute_reply.started": "2024-07-24T07:45:09.049623Z"
    },
    "tags": []
   },
   "outputs": [
    {
     "name": "stdout",
     "output_type": "stream",
     "text": [
      "14520\n"
     ]
    }
   ],
   "source": [
    "print(len(inputs['labels']))"
   ]
  },
  {
   "cell_type": "code",
   "execution_count": 48,
   "id": "47daf265-08ac-4673-815b-960c0fd00ef0",
   "metadata": {
    "ExecutionIndicator": {
     "show": true
    },
    "execution": {
     "iopub.execute_input": "2024-07-24T07:48:43.798768Z",
     "iopub.status.busy": "2024-07-24T07:48:43.798439Z",
     "iopub.status.idle": "2024-07-24T07:48:43.802103Z",
     "shell.execute_reply": "2024-07-24T07:48:43.801635Z",
     "shell.execute_reply.started": "2024-07-24T07:48:43.798749Z"
    },
    "tags": []
   },
   "outputs": [
    {
     "data": {
      "text/plain": [
       "Dataset({\n",
       "    features: ['context', 'answer', 'question', 'id'],\n",
       "    num_rows: 14520\n",
       "})"
      ]
     },
     "execution_count": 48,
     "metadata": {},
     "output_type": "execute_result"
    }
   ],
   "source": [
    "train_dataset"
   ]
  },
  {
   "cell_type": "code",
   "execution_count": 56,
   "id": "0ee5c397-8faf-4010-ac84-3b3e12084ade",
   "metadata": {
    "ExecutionIndicator": {
     "show": true
    },
    "execution": {
     "iopub.execute_input": "2024-07-24T07:54:06.899652Z",
     "iopub.status.busy": "2024-07-24T07:54:06.899287Z",
     "iopub.status.idle": "2024-07-24T07:54:10.719824Z",
     "shell.execute_reply": "2024-07-24T07:54:10.719157Z",
     "shell.execute_reply.started": "2024-07-24T07:54:06.899629Z"
    },
    "tags": []
   },
   "outputs": [
    {
     "name": "stderr",
     "output_type": "stream",
     "text": [
      "                                                                   \r"
     ]
    }
   ],
   "source": [
    "def process_func(exmaples):\n",
    "    # print(type(exmaples))\n",
    "    # q_c_tent = [\"问题内容: \\n\" + e['question'] + \"\\n文本内容: \\n\" + e['context'] for e in exmaples]\n",
    "    qc = [\"问题内容: \\n\" + q + \"\\n文本内容: \\n\" + c for q, c in zip(exmaples['question'], exmaples['context'])]\n",
    "    # q = [\"问题内容: \\n\" + e for e in exmaples['question']]\n",
    "    # print(q_c_tent, answer)\n",
    "    inputs = tokenizer(qc, max_length=512, truncation=True)\n",
    "    labels = tokenizer(text_target=exmaples[\"answer\"], max_length=64, truncation=True)\n",
    "    inputs[\"labels\"] = labels[\"input_ids\"]\n",
    "    return inputs\n",
    "\n",
    "train_tokenized_ds = train_dataset.map(process_func, batched=True)\n",
    "test_tokenized_ds = test_dataset.map(process_func, batched=True)"
   ]
  },
  {
   "cell_type": "code",
   "execution_count": 57,
   "id": "f979ee66-94c8-441f-8d44-19c7af4a8e84",
   "metadata": {
    "execution": {
     "iopub.execute_input": "2024-07-24T07:54:17.631086Z",
     "iopub.status.busy": "2024-07-24T07:54:17.630746Z",
     "iopub.status.idle": "2024-07-24T07:54:17.634507Z",
     "shell.execute_reply": "2024-07-24T07:54:17.634055Z",
     "shell.execute_reply.started": "2024-07-24T07:54:17.631067Z"
    },
    "tags": []
   },
   "outputs": [
    {
     "data": {
      "text/plain": [
       "Dataset({\n",
       "    features: ['context', 'answer', 'question', 'id', 'input_ids', 'token_type_ids', 'attention_mask', 'labels'],\n",
       "    num_rows: 984\n",
       "})"
      ]
     },
     "execution_count": 57,
     "metadata": {},
     "output_type": "execute_result"
    }
   ],
   "source": [
    "test_tokenized_ds"
   ]
  },
  {
   "cell_type": "code",
   "execution_count": 16,
   "id": "529a0e7f-2712-42cc-b395-d768bc805b65",
   "metadata": {
    "execution": {
     "iopub.execute_input": "2024-07-24T07:13:17.021332Z",
     "iopub.status.busy": "2024-07-24T07:13:17.020900Z",
     "iopub.status.idle": "2024-07-24T07:13:17.025249Z",
     "shell.execute_reply": "2024-07-24T07:13:17.024565Z",
     "shell.execute_reply.started": "2024-07-24T07:13:17.021313Z"
    },
    "tags": []
   },
   "outputs": [
    {
     "data": {
      "text/plain": [
       "'/mnt/workspace/.cache/modelscope/zlyzly/t5-base-chinese-cluecorpussmall'"
      ]
     },
     "execution_count": 16,
     "metadata": {},
     "output_type": "execute_result"
    }
   ],
   "source": [
    "model_path"
   ]
  },
  {
   "cell_type": "code",
   "execution_count": 8,
   "id": "263f72d7-05d9-4c51-a7c1-8fff50cadbce",
   "metadata": {
    "execution": {
     "iopub.execute_input": "2024-07-24T02:40:40.074801Z",
     "iopub.status.busy": "2024-07-24T02:40:40.074071Z",
     "iopub.status.idle": "2024-07-24T02:40:42.115427Z",
     "shell.execute_reply": "2024-07-24T02:40:42.114679Z",
     "shell.execute_reply.started": "2024-07-24T02:40:40.074777Z"
    },
    "tags": []
   },
   "outputs": [],
   "source": [
    "model = AutoModelForSeq2SeqLM.from_pretrained(model_path)"
   ]
  },
  {
   "cell_type": "code",
   "execution_count": null,
   "id": "76fba0e9-d718-4106-9f86-cbf661224ee5",
   "metadata": {
    "tags": []
   },
   "outputs": [],
   "source": [
    "model"
   ]
  },
  {
   "cell_type": "code",
   "execution_count": null,
   "id": "2aeab642-b937-401f-ae88-236466ea932a",
   "metadata": {},
   "outputs": [],
   "source": []
  }
 ],
 "metadata": {
  "kernelspec": {
   "display_name": "Python 3 (ipykernel)",
   "language": "python",
   "name": "python3"
  },
  "language_info": {
   "codemirror_mode": {
    "name": "ipython",
    "version": 3
   },
   "file_extension": ".py",
   "mimetype": "text/x-python",
   "name": "python",
   "nbconvert_exporter": "python",
   "pygments_lexer": "ipython3",
   "version": "3.8.16"
  }
 },
 "nbformat": 4,
 "nbformat_minor": 5
}
