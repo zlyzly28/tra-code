{
 "cells": [
  {
   "cell_type": "code",
   "execution_count": null,
   "id": "5b119bb1-fbf6-47f6-aff5-8b8baf9f5dc1",
   "metadata": {
    "ExecutionIndicator": {
     "show": true
    },
    "tags": []
   },
   "outputs": [],
   "source": [
    "import json\n",
    "\n",
    "# 打开并读取JSON文件\n",
    "with open('dureadqg/train.json', 'r') as file:\n",
    "    data = json.load(file)\n",
    "\n",
    "# 输出读取到的数据\n",
    "print(data)"
   ]
  },
  {
   "cell_type": "code",
   "execution_count": 1,
   "id": "ed39f620-a9ca-4bb2-8685-a0c00257370a",
   "metadata": {
    "ExecutionIndicator": {
     "show": true
    },
    "execution": {
     "iopub.execute_input": "2024-07-24T02:39:43.631870Z",
     "iopub.status.busy": "2024-07-24T02:39:43.631548Z",
     "iopub.status.idle": "2024-07-24T02:39:43.719336Z",
     "shell.execute_reply": "2024-07-24T02:39:43.718834Z",
     "shell.execute_reply.started": "2024-07-24T02:39:43.631851Z"
    },
    "tags": []
   },
   "outputs": [],
   "source": [
    "import json\n",
    "\n",
    "# 定义一个空列表用于存储所有的字典\n",
    "train_list = []\n",
    "test_list = []\n",
    "# 打开JSON Lines文件\n",
    "with open('dureadqg/train.json', 'r') as file:\n",
    "    # 逐行读取\n",
    "    for line in file:\n",
    "        # 解析每一行\n",
    "        data_dict = json.loads(line)\n",
    "        # 将解析后的字典添加到列表中\n",
    "        train_list.append(data_dict)\n",
    "# 打开JSON Lines文件\n",
    "with open('dureadqg/dev.json', 'r') as file:\n",
    "    # 逐行读取\n",
    "    for line in file:\n",
    "        # 解析每一行\n",
    "        data_dict = json.loads(line)\n",
    "        # 将解析后的字典添加到列表中\n",
    "        test_list.append(data_dict)\n"
   ]
  },
  {
   "cell_type": "code",
   "execution_count": 2,
   "id": "2b4f7825-ec3c-4d7c-ba44-06ee866f44d3",
   "metadata": {
    "ExecutionIndicator": {
     "show": true
    },
    "execution": {
     "iopub.execute_input": "2024-07-24T02:39:45.430817Z",
     "iopub.status.busy": "2024-07-24T02:39:45.430491Z",
     "iopub.status.idle": "2024-07-24T02:39:45.434117Z",
     "shell.execute_reply": "2024-07-24T02:39:45.433558Z",
     "shell.execute_reply.started": "2024-07-24T02:39:45.430798Z"
    },
    "tags": []
   },
   "outputs": [
    {
     "name": "stdout",
     "output_type": "stream",
     "text": [
      "14520 984\n"
     ]
    }
   ],
   "source": [
    "print(len(train_list), len(test_list))"
   ]
  },
  {
   "cell_type": "code",
   "execution_count": null,
   "id": "13c24901-91e3-4f5f-b60f-7ebeaa1ad586",
   "metadata": {
    "tags": []
   },
   "outputs": [],
   "source": [
    "!pip install datasets transformers rouge-score nltk"
   ]
  },
  {
   "cell_type": "code",
   "execution_count": 4,
   "id": "acb12293-37c6-4318-88a2-ed6ea72847c6",
   "metadata": {
    "ExecutionIndicator": {
     "show": true
    },
    "execution": {
     "iopub.execute_input": "2024-07-24T02:39:53.312883Z",
     "iopub.status.busy": "2024-07-24T02:39:53.312539Z",
     "iopub.status.idle": "2024-07-24T02:39:54.492082Z",
     "shell.execute_reply": "2024-07-24T02:39:54.491566Z",
     "shell.execute_reply.started": "2024-07-24T02:39:53.312862Z"
    },
    "tags": []
   },
   "outputs": [
    {
     "name": "stderr",
     "output_type": "stream",
     "text": [
      "/opt/conda/lib/python3.8/site-packages/tqdm/auto.py:21: TqdmWarning: IProgress not found. Please update jupyter and ipywidgets. See https://ipywidgets.readthedocs.io/en/stable/user_install.html\n",
      "  from .autonotebook import tqdm as notebook_tqdm\n"
     ]
    },
    {
     "name": "stdout",
     "output_type": "stream",
     "text": [
      "Dataset({\n",
      "    features: ['context', 'answer', 'question', 'id'],\n",
      "    num_rows: 14520\n",
      "}) Dataset({\n",
      "    features: ['context', 'answer', 'question', 'id'],\n",
      "    num_rows: 984\n",
      "})\n"
     ]
    }
   ],
   "source": [
    "from datasets import *\n",
    "train_dataset = Dataset.from_list(train_list)\n",
    "test_dataset = Dataset.from_list(test_list)\n",
    "print(train_dataset, test_dataset)"
   ]
  },
  {
   "cell_type": "code",
   "execution_count": 1,
   "id": "858d4719-cbf0-4cce-b24f-c2e19e5ac25c",
   "metadata": {
    "execution": {
     "iopub.execute_input": "2024-07-24T02:08:51.685741Z",
     "iopub.status.busy": "2024-07-24T02:08:51.684045Z",
     "iopub.status.idle": "2024-07-24T02:08:51.877949Z",
     "shell.execute_reply": "2024-07-24T02:08:51.877292Z",
     "shell.execute_reply.started": "2024-07-24T02:08:51.685700Z"
    },
    "tags": []
   },
   "outputs": [
    {
     "name": "stdout",
     "output_type": "stream",
     "text": [
      "Updated Git hooks.\n",
      "Git LFS initialized.\n"
     ]
    }
   ],
   "source": [
    "!git lfs install"
   ]
  },
  {
   "cell_type": "code",
   "execution_count": 2,
   "id": "69f8ba93-1713-4c3b-aaf7-d7c5a3e6a9f5",
   "metadata": {
    "execution": {
     "iopub.execute_input": "2024-07-24T01:57:58.154163Z",
     "iopub.status.busy": "2024-07-24T01:57:58.153819Z",
     "iopub.status.idle": "2024-07-24T01:58:30.062671Z",
     "shell.execute_reply": "2024-07-24T01:58:30.062093Z",
     "shell.execute_reply.started": "2024-07-24T01:57:58.154142Z"
    },
    "tags": []
   },
   "outputs": [
    {
     "name": "stdout",
     "output_type": "stream",
     "text": [
      "正克隆到 't5-base-chinese-cluecorpussmall'...\n",
      "fatal: 无法访问 'https://huggingface.co/uer/t5-base-chinese-cluecorpussmall/'：Failed to connect to huggingface.co port 443: 连接超时\n"
     ]
    }
   ],
   "source": [
    "!git clone https://huggingface.co/uer/t5-base-chinese-cluecorpussmall"
   ]
  },
  {
   "cell_type": "code",
   "execution_count": 3,
   "id": "a7a572f9-a29f-46d3-a9ec-c5dc45a1fb68",
   "metadata": {
    "execution": {
     "iopub.execute_input": "2024-07-24T02:21:37.554633Z",
     "iopub.status.busy": "2024-07-24T02:21:37.554120Z",
     "iopub.status.idle": "2024-07-24T02:21:55.813832Z",
     "shell.execute_reply": "2024-07-24T02:21:55.813132Z",
     "shell.execute_reply.started": "2024-07-24T02:21:37.554608Z"
    },
    "tags": []
   },
   "outputs": [
    {
     "name": "stderr",
     "output_type": "stream",
     "text": [
      "2024-07-24 10:21:54,294 - modelscope - INFO - [master ee39e78] 'upload model'\n",
      " 5 files changed, 21385 insertions(+)\n",
      " create mode 100644 README.md\n",
      " create mode 100644 config.json\n",
      " create mode 100644 special_tokens_map.json\n",
      " create mode 100644 tokenizer_config.json\n",
      " create mode 100644 vocab.txt\n",
      "\n"
     ]
    }
   ],
   "source": [
    "from modelscope.hub.api import HubApi\n",
    "\n",
    "YOUR_ACCESS_TOKEN = '49834fc2-f98f-4ac3-8efc-01ce1764baf8'\n",
    "\n",
    "api = HubApi()\n",
    "api.login(YOUR_ACCESS_TOKEN)\n",
    "api.push_model(\n",
    "    model_id=\"zlyzly/t5-base-chinese-cluecorpussmall\", \n",
    "    model_dir=\"t5-base-chinese-cluecorpussmall\" # 本地模型目录，要求目录中必须包含configuration.json\n",
    ")"
   ]
  },
  {
   "cell_type": "code",
   "execution_count": 5,
   "id": "b0158a2b-f0b8-44a4-a3de-737612297449",
   "metadata": {
    "execution": {
     "iopub.execute_input": "2024-07-24T02:40:17.814304Z",
     "iopub.status.busy": "2024-07-24T02:40:17.813982Z",
     "iopub.status.idle": "2024-07-24T02:40:28.054864Z",
     "shell.execute_reply": "2024-07-24T02:40:28.054129Z",
     "shell.execute_reply.started": "2024-07-24T02:40:17.814283Z"
    },
    "tags": []
   },
   "outputs": [
    {
     "name": "stderr",
     "output_type": "stream",
     "text": [
      "2024-07-24 10:40:20,076 - modelscope - INFO - PyTorch version 2.0.1+cu118 Found.\n",
      "2024-07-24 10:40:20,078 - modelscope - INFO - TensorFlow version 2.13.0 Found.\n",
      "2024-07-24 10:40:20,079 - modelscope - INFO - Loading ast index from /mnt/workspace/.cache/modelscope/ast_indexer\n",
      "2024-07-24 10:40:20,079 - modelscope - INFO - No valid ast index found from /mnt/workspace/.cache/modelscope/ast_indexer, generating ast index from prebuilt!\n",
      "2024-07-24 10:40:20,239 - modelscope - INFO - Loading done! Current index file version is 1.9.5, with md5 e096d041fdba41d8d7d7331b3f469288 and a total number of 945 components indexed\n",
      "Downloading: 100%|██████████| 460/460 [00:00<00:00, 51.4kB/s]\n",
      "Downloading: 100%|██████████| 26.0/26.0 [00:00<00:00, 3.95kB/s]\n",
      "Downloading: 100%|█████████▉| 818M/818M [00:02<00:00, 286MB/s] \n",
      "Downloading: 100%|██████████| 6.32k/6.32k [00:00<00:00, 3.38MB/s]\n",
      "Downloading: 100%|██████████| 112/112 [00:00<00:00, 57.5kB/s]\n",
      "Downloading: 100%|██████████| 263/263 [00:00<00:00, 142kB/s]\n",
      "Downloading: 100%|██████████| 108k/108k [00:00<00:00, 19.7MB/s]\n"
     ]
    }
   ],
   "source": [
    "from modelscope import HubApi\n",
    "from modelscope import snapshot_download\n",
    "\n",
    "api=HubApi()\n",
    "api.login('49834fc2-f98f-4ac3-8efc-01ce1764baf8')\n",
    "\n",
    "# download your model, the model_path is downloaded model path.\n",
    "model_path =snapshot_download(model_id='zlyzly/t5-base-chinese-cluecorpussmall')\n"
   ]
  },
  {
   "cell_type": "code",
   "execution_count": 6,
   "id": "529a0e7f-2712-42cc-b395-d768bc805b65",
   "metadata": {
    "execution": {
     "iopub.execute_input": "2024-07-24T02:40:30.228271Z",
     "iopub.status.busy": "2024-07-24T02:40:30.227580Z",
     "iopub.status.idle": "2024-07-24T02:40:30.234368Z",
     "shell.execute_reply": "2024-07-24T02:40:30.233689Z",
     "shell.execute_reply.started": "2024-07-24T02:40:30.228245Z"
    },
    "tags": []
   },
   "outputs": [
    {
     "data": {
      "text/plain": [
       "'/mnt/workspace/.cache/modelscope/zlyzly/t5-base-chinese-cluecorpussmall'"
      ]
     },
     "execution_count": 6,
     "metadata": {},
     "output_type": "execute_result"
    }
   ],
   "source": [
    "model_path"
   ]
  },
  {
   "cell_type": "code",
   "execution_count": 7,
   "id": "c18c9c43-fb96-4822-a586-5e188aa76733",
   "metadata": {
    "ExecutionIndicator": {
     "show": true
    },
    "execution": {
     "iopub.execute_input": "2024-07-24T02:40:31.765339Z",
     "iopub.status.busy": "2024-07-24T02:40:31.765025Z",
     "iopub.status.idle": "2024-07-24T02:40:37.534675Z",
     "shell.execute_reply": "2024-07-24T02:40:37.534039Z",
     "shell.execute_reply.started": "2024-07-24T02:40:31.765320Z"
    },
    "tags": []
   },
   "outputs": [
    {
     "name": "stderr",
     "output_type": "stream",
     "text": [
      "2024-07-24 10:40:33.418967: I tensorflow/core/util/port.cc:110] oneDNN custom operations are on. You may see slightly different numerical results due to floating-point round-off errors from different computation orders. To turn them off, set the environment variable `TF_ENABLE_ONEDNN_OPTS=0`.\n",
      "2024-07-24 10:40:33.838789: I tensorflow/core/platform/cpu_feature_guard.cc:182] This TensorFlow binary is optimized to use available CPU instructions in performance-critical operations.\n",
      "To enable the following instructions: AVX2 AVX512F AVX512_VNNI FMA, in other operations, rebuild TensorFlow with the appropriate compiler flags.\n",
      "2024-07-24 10:40:34.962499: W tensorflow/compiler/tf2tensorrt/utils/py_utils.cc:38] TF-TRT Warning: Could not find TensorRT\n"
     ]
    }
   ],
   "source": [
    "import torch\n",
    "from datasets import Dataset\n",
    "from transformers import AutoTokenizer, AutoModelForSeq2SeqLM, DataCollatorForSeq2Seq, Seq2SeqTrainer, Seq2SeqTrainingArguments\n",
    "tokenizer = AutoTokenizer.from_pretrained(model_path)"
   ]
  },
  {
   "cell_type": "code",
   "execution_count": 8,
   "id": "263f72d7-05d9-4c51-a7c1-8fff50cadbce",
   "metadata": {
    "execution": {
     "iopub.execute_input": "2024-07-24T02:40:40.074801Z",
     "iopub.status.busy": "2024-07-24T02:40:40.074071Z",
     "iopub.status.idle": "2024-07-24T02:40:42.115427Z",
     "shell.execute_reply": "2024-07-24T02:40:42.114679Z",
     "shell.execute_reply.started": "2024-07-24T02:40:40.074777Z"
    },
    "tags": []
   },
   "outputs": [],
   "source": [
    "model = AutoModelForSeq2SeqLM.from_pretrained(model_path)"
   ]
  },
  {
   "cell_type": "code",
   "execution_count": 9,
   "id": "76fba0e9-d718-4106-9f86-cbf661224ee5",
   "metadata": {
    "execution": {
     "iopub.execute_input": "2024-07-24T02:40:43.324162Z",
     "iopub.status.busy": "2024-07-24T02:40:43.323826Z",
     "iopub.status.idle": "2024-07-24T02:40:43.331184Z",
     "shell.execute_reply": "2024-07-24T02:40:43.330464Z",
     "shell.execute_reply.started": "2024-07-24T02:40:43.324143Z"
    },
    "tags": []
   },
   "outputs": [
    {
     "data": {
      "text/plain": [
       "T5ForConditionalGeneration(\n",
       "  (shared): Embedding(21228, 768)\n",
       "  (encoder): T5Stack(\n",
       "    (embed_tokens): Embedding(21228, 768)\n",
       "    (block): ModuleList(\n",
       "      (0): T5Block(\n",
       "        (layer): ModuleList(\n",
       "          (0): T5LayerSelfAttention(\n",
       "            (SelfAttention): T5Attention(\n",
       "              (q): Linear(in_features=768, out_features=768, bias=False)\n",
       "              (k): Linear(in_features=768, out_features=768, bias=False)\n",
       "              (v): Linear(in_features=768, out_features=768, bias=False)\n",
       "              (o): Linear(in_features=768, out_features=768, bias=False)\n",
       "              (relative_attention_bias): Embedding(32, 12)\n",
       "            )\n",
       "            (layer_norm): FusedRMSNorm(torch.Size([768]), eps=1e-06, elementwise_affine=True)\n",
       "            (dropout): Dropout(p=0.1, inplace=False)\n",
       "          )\n",
       "          (1): T5LayerFF(\n",
       "            (DenseReluDense): T5DenseActDense(\n",
       "              (wi): Linear(in_features=768, out_features=3072, bias=False)\n",
       "              (wo): Linear(in_features=3072, out_features=768, bias=False)\n",
       "              (dropout): Dropout(p=0.1, inplace=False)\n",
       "              (act): ReLU()\n",
       "            )\n",
       "            (layer_norm): FusedRMSNorm(torch.Size([768]), eps=1e-06, elementwise_affine=True)\n",
       "            (dropout): Dropout(p=0.1, inplace=False)\n",
       "          )\n",
       "        )\n",
       "      )\n",
       "      (1-11): 11 x T5Block(\n",
       "        (layer): ModuleList(\n",
       "          (0): T5LayerSelfAttention(\n",
       "            (SelfAttention): T5Attention(\n",
       "              (q): Linear(in_features=768, out_features=768, bias=False)\n",
       "              (k): Linear(in_features=768, out_features=768, bias=False)\n",
       "              (v): Linear(in_features=768, out_features=768, bias=False)\n",
       "              (o): Linear(in_features=768, out_features=768, bias=False)\n",
       "            )\n",
       "            (layer_norm): FusedRMSNorm(torch.Size([768]), eps=1e-06, elementwise_affine=True)\n",
       "            (dropout): Dropout(p=0.1, inplace=False)\n",
       "          )\n",
       "          (1): T5LayerFF(\n",
       "            (DenseReluDense): T5DenseActDense(\n",
       "              (wi): Linear(in_features=768, out_features=3072, bias=False)\n",
       "              (wo): Linear(in_features=3072, out_features=768, bias=False)\n",
       "              (dropout): Dropout(p=0.1, inplace=False)\n",
       "              (act): ReLU()\n",
       "            )\n",
       "            (layer_norm): FusedRMSNorm(torch.Size([768]), eps=1e-06, elementwise_affine=True)\n",
       "            (dropout): Dropout(p=0.1, inplace=False)\n",
       "          )\n",
       "        )\n",
       "      )\n",
       "    )\n",
       "    (final_layer_norm): FusedRMSNorm(torch.Size([768]), eps=1e-06, elementwise_affine=True)\n",
       "    (dropout): Dropout(p=0.1, inplace=False)\n",
       "  )\n",
       "  (decoder): T5Stack(\n",
       "    (embed_tokens): Embedding(21228, 768)\n",
       "    (block): ModuleList(\n",
       "      (0): T5Block(\n",
       "        (layer): ModuleList(\n",
       "          (0): T5LayerSelfAttention(\n",
       "            (SelfAttention): T5Attention(\n",
       "              (q): Linear(in_features=768, out_features=768, bias=False)\n",
       "              (k): Linear(in_features=768, out_features=768, bias=False)\n",
       "              (v): Linear(in_features=768, out_features=768, bias=False)\n",
       "              (o): Linear(in_features=768, out_features=768, bias=False)\n",
       "              (relative_attention_bias): Embedding(32, 12)\n",
       "            )\n",
       "            (layer_norm): FusedRMSNorm(torch.Size([768]), eps=1e-06, elementwise_affine=True)\n",
       "            (dropout): Dropout(p=0.1, inplace=False)\n",
       "          )\n",
       "          (1): T5LayerCrossAttention(\n",
       "            (EncDecAttention): T5Attention(\n",
       "              (q): Linear(in_features=768, out_features=768, bias=False)\n",
       "              (k): Linear(in_features=768, out_features=768, bias=False)\n",
       "              (v): Linear(in_features=768, out_features=768, bias=False)\n",
       "              (o): Linear(in_features=768, out_features=768, bias=False)\n",
       "            )\n",
       "            (layer_norm): FusedRMSNorm(torch.Size([768]), eps=1e-06, elementwise_affine=True)\n",
       "            (dropout): Dropout(p=0.1, inplace=False)\n",
       "          )\n",
       "          (2): T5LayerFF(\n",
       "            (DenseReluDense): T5DenseActDense(\n",
       "              (wi): Linear(in_features=768, out_features=3072, bias=False)\n",
       "              (wo): Linear(in_features=3072, out_features=768, bias=False)\n",
       "              (dropout): Dropout(p=0.1, inplace=False)\n",
       "              (act): ReLU()\n",
       "            )\n",
       "            (layer_norm): FusedRMSNorm(torch.Size([768]), eps=1e-06, elementwise_affine=True)\n",
       "            (dropout): Dropout(p=0.1, inplace=False)\n",
       "          )\n",
       "        )\n",
       "      )\n",
       "      (1-11): 11 x T5Block(\n",
       "        (layer): ModuleList(\n",
       "          (0): T5LayerSelfAttention(\n",
       "            (SelfAttention): T5Attention(\n",
       "              (q): Linear(in_features=768, out_features=768, bias=False)\n",
       "              (k): Linear(in_features=768, out_features=768, bias=False)\n",
       "              (v): Linear(in_features=768, out_features=768, bias=False)\n",
       "              (o): Linear(in_features=768, out_features=768, bias=False)\n",
       "            )\n",
       "            (layer_norm): FusedRMSNorm(torch.Size([768]), eps=1e-06, elementwise_affine=True)\n",
       "            (dropout): Dropout(p=0.1, inplace=False)\n",
       "          )\n",
       "          (1): T5LayerCrossAttention(\n",
       "            (EncDecAttention): T5Attention(\n",
       "              (q): Linear(in_features=768, out_features=768, bias=False)\n",
       "              (k): Linear(in_features=768, out_features=768, bias=False)\n",
       "              (v): Linear(in_features=768, out_features=768, bias=False)\n",
       "              (o): Linear(in_features=768, out_features=768, bias=False)\n",
       "            )\n",
       "            (layer_norm): FusedRMSNorm(torch.Size([768]), eps=1e-06, elementwise_affine=True)\n",
       "            (dropout): Dropout(p=0.1, inplace=False)\n",
       "          )\n",
       "          (2): T5LayerFF(\n",
       "            (DenseReluDense): T5DenseActDense(\n",
       "              (wi): Linear(in_features=768, out_features=3072, bias=False)\n",
       "              (wo): Linear(in_features=3072, out_features=768, bias=False)\n",
       "              (dropout): Dropout(p=0.1, inplace=False)\n",
       "              (act): ReLU()\n",
       "            )\n",
       "            (layer_norm): FusedRMSNorm(torch.Size([768]), eps=1e-06, elementwise_affine=True)\n",
       "            (dropout): Dropout(p=0.1, inplace=False)\n",
       "          )\n",
       "        )\n",
       "      )\n",
       "    )\n",
       "    (final_layer_norm): FusedRMSNorm(torch.Size([768]), eps=1e-06, elementwise_affine=True)\n",
       "    (dropout): Dropout(p=0.1, inplace=False)\n",
       "  )\n",
       "  (lm_head): Linear(in_features=768, out_features=21228, bias=False)\n",
       ")"
      ]
     },
     "execution_count": 9,
     "metadata": {},
     "output_type": "execute_result"
    }
   ],
   "source": [
    "model"
   ]
  },
  {
   "cell_type": "code",
   "execution_count": null,
   "id": "2aeab642-b937-401f-ae88-236466ea932a",
   "metadata": {},
   "outputs": [],
   "source": []
  }
 ],
 "metadata": {
  "kernelspec": {
   "display_name": "Python 3 (ipykernel)",
   "language": "python",
   "name": "python3"
  },
  "language_info": {
   "codemirror_mode": {
    "name": "ipython",
    "version": 3
   },
   "file_extension": ".py",
   "mimetype": "text/x-python",
   "name": "python",
   "nbconvert_exporter": "python",
   "pygments_lexer": "ipython3",
   "version": "3.8.16"
  }
 },
 "nbformat": 4,
 "nbformat_minor": 5
}
