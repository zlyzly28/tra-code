{
 "cells": [
  {
   "cell_type": "code",
   "execution_count": null,
   "id": "5b119bb1-fbf6-47f6-aff5-8b8baf9f5dc1",
   "metadata": {
    "ExecutionIndicator": {
     "show": true
    },
    "tags": []
   },
   "outputs": [],
   "source": [
    "import json\n",
    "\n",
    "# 打开并读取JSON文件\n",
    "with open('dureadqg/train.json', 'r') as file:\n",
    "    data = json.load(file)\n",
    "\n",
    "# 输出读取到的数据\n",
    "print(data)"
   ]
  },
  {
   "cell_type": "code",
   "execution_count": 17,
   "id": "ed39f620-a9ca-4bb2-8685-a0c00257370a",
   "metadata": {
    "ExecutionIndicator": {
     "show": true
    },
    "execution": {
     "iopub.execute_input": "2024-07-23T07:01:37.189515Z",
     "iopub.status.busy": "2024-07-23T07:01:37.189185Z",
     "iopub.status.idle": "2024-07-23T07:01:37.271286Z",
     "shell.execute_reply": "2024-07-23T07:01:37.270769Z",
     "shell.execute_reply.started": "2024-07-23T07:01:37.189495Z"
    },
    "tags": []
   },
   "outputs": [],
   "source": [
    "import json\n",
    "\n",
    "# 定义一个空列表用于存储所有的字典\n",
    "train_list = []\n",
    "test_list = []\n",
    "# 打开JSON Lines文件\n",
    "with open('dureadqg/train.json', 'r') as file:\n",
    "    # 逐行读取\n",
    "    for line in file:\n",
    "        # 解析每一行\n",
    "        data_dict = json.loads(line)\n",
    "        # 将解析后的字典添加到列表中\n",
    "        train_list.append(data_dict)\n",
    "# 打开JSON Lines文件\n",
    "with open('dureadqg/dev.json', 'r') as file:\n",
    "    # 逐行读取\n",
    "    for line in file:\n",
    "        # 解析每一行\n",
    "        data_dict = json.loads(line)\n",
    "        # 将解析后的字典添加到列表中\n",
    "        test_list.append(data_dict)\n"
   ]
  },
  {
   "cell_type": "code",
   "execution_count": 18,
   "id": "2b4f7825-ec3c-4d7c-ba44-06ee866f44d3",
   "metadata": {
    "ExecutionIndicator": {
     "show": true
    },
    "execution": {
     "iopub.execute_input": "2024-07-23T07:01:38.809113Z",
     "iopub.status.busy": "2024-07-23T07:01:38.808782Z",
     "iopub.status.idle": "2024-07-23T07:01:38.811944Z",
     "shell.execute_reply": "2024-07-23T07:01:38.811493Z",
     "shell.execute_reply.started": "2024-07-23T07:01:38.809084Z"
    },
    "tags": []
   },
   "outputs": [
    {
     "name": "stdout",
     "output_type": "stream",
     "text": [
      "14520 984\n"
     ]
    }
   ],
   "source": [
    "print(len(train_list), len(test_list))"
   ]
  },
  {
   "cell_type": "code",
   "execution_count": null,
   "id": "13c24901-91e3-4f5f-b60f-7ebeaa1ad586",
   "metadata": {
    "tags": []
   },
   "outputs": [],
   "source": [
    "!pip install datasets transformers rouge-score nltk"
   ]
  },
  {
   "cell_type": "code",
   "execution_count": 19,
   "id": "acb12293-37c6-4318-88a2-ed6ea72847c6",
   "metadata": {
    "ExecutionIndicator": {
     "show": true
    },
    "execution": {
     "iopub.execute_input": "2024-07-23T07:01:57.982376Z",
     "iopub.status.busy": "2024-07-23T07:01:57.982055Z",
     "iopub.status.idle": "2024-07-23T07:01:58.049142Z",
     "shell.execute_reply": "2024-07-23T07:01:58.048657Z",
     "shell.execute_reply.started": "2024-07-23T07:01:57.982357Z"
    },
    "tags": []
   },
   "outputs": [
    {
     "name": "stdout",
     "output_type": "stream",
     "text": [
      "Dataset({\n",
      "    features: ['context', 'answer', 'question', 'id'],\n",
      "    num_rows: 14520\n",
      "}) Dataset({\n",
      "    features: ['context', 'answer', 'question', 'id'],\n",
      "    num_rows: 984\n",
      "})\n"
     ]
    }
   ],
   "source": [
    "from datasets import *\n",
    "train_dataset = Dataset.from_list(train_list)\n",
    "test_dataset = Dataset.from_list(test_list)\n",
    "print(train_dataset, test_dataset)"
   ]
  }
 ],
 "metadata": {
  "kernelspec": {
   "display_name": "Python 3 (ipykernel)",
   "language": "python",
   "name": "python3"
  },
  "language_info": {
   "codemirror_mode": {
    "name": "ipython",
    "version": 3
   },
   "file_extension": ".py",
   "mimetype": "text/x-python",
   "name": "python",
   "nbconvert_exporter": "python",
   "pygments_lexer": "ipython3",
   "version": "3.8.16"
  }
 },
 "nbformat": 4,
 "nbformat_minor": 5
}
